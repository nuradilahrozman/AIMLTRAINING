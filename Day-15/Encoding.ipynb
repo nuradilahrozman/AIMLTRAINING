{
 "cells": [
  {
   "cell_type": "code",
   "execution_count": 3,
   "id": "248b9a4d-96ba-4278-b603-bc5ed23813d9",
   "metadata": {},
   "outputs": [
    {
     "name": "stdout",
     "output_type": "stream",
     "text": [
      "[2 0 1 0 2 1 0]\n"
     ]
    }
   ],
   "source": [
    "#Label Encoding  Basic Example One\n",
    "from sklearn.preprocessing import LabelEncoder\n",
    "\n",
    "colors=['Red','Blue','Green','Blue','Red','Green','Blue']\n",
    "\n",
    "le = LabelEncoder()\n",
    "#Fit and transform\n",
    "encoded = le.fit_transform(colors)\n",
    "print(encoded)"
   ]
  },
  {
   "cell_type": "code",
   "execution_count": 4,
   "id": "a263656a-dbbf-4eca-bf7d-5e489c34c342",
   "metadata": {},
   "outputs": [
    {
     "name": "stdout",
     "output_type": "stream",
     "text": [
      "[0 1 2 3 0 3 4]\n"
     ]
    }
   ],
   "source": [
    "#Label Encoding  Basic Example One\n",
    "from sklearn.preprocessing import LabelEncoder\n",
    "\n",
    "colors=['Apple','Banana','Mango','Orange','Apple','Orange','StrawBerry']\n",
    "\n",
    "le = LabelEncoder()\n",
    "#Fit and transform\n",
    "encoded = le.fit_transform(colors)\n",
    "print(encoded)"
   ]
  },
  {
   "cell_type": "code",
   "execution_count": null,
   "id": "4359e5cb-60ed-48c8-9af6-c453384ee685",
   "metadata": {},
   "outputs": [],
   "source": []
  }
 ],
 "metadata": {
  "kernelspec": {
   "display_name": "Python [conda env:base] *",
   "language": "python",
   "name": "conda-base-py"
  },
  "language_info": {
   "codemirror_mode": {
    "name": "ipython",
    "version": 3
   },
   "file_extension": ".py",
   "mimetype": "text/x-python",
   "name": "python",
   "nbconvert_exporter": "python",
   "pygments_lexer": "ipython3",
   "version": "3.13.5"
  }
 },
 "nbformat": 4,
 "nbformat_minor": 5
}
