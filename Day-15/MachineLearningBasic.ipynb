{
 "cells": [
  {
   "cell_type": "code",
   "execution_count": 2,
   "id": "da47d952-b324-4cbc-8e76-658e1cd4016f",
   "metadata": {},
   "outputs": [],
   "source": [
    "import pandas as pd\n",
    "from sklearn.model_selection import train_test_split\n",
    "from sklearn.linear_model import LinearRegression"
   ]
  },
  {
   "cell_type": "code",
   "execution_count": 4,
   "id": "37fbb167-afe0-4eaf-a83c-2f46465c9977",
   "metadata": {},
   "outputs": [],
   "source": [
    "data = {\n",
    "    'Hours':[1, 2, 3, 4, 5, 6, 7, 8],\n",
    "    'Marks':[25, 35, 45, 50, 55, 65, 70,80]\n",
    "}\n",
    "df=pd.DataFrame(data)"
   ]
  },
  {
   "cell_type": "code",
   "execution_count": 10,
   "id": "5029fa8c-a953-4dd8-83c2-d78125fabde2",
   "metadata": {},
   "outputs": [],
   "source": [
    "X = df[['Hours']]\n",
    "y = df['Marks']"
   ]
  },
  {
   "cell_type": "code",
   "execution_count": 11,
   "id": "fb26c505-ee8e-4d73-bb9a-03c636bde64d",
   "metadata": {},
   "outputs": [
    {
     "name": "stdout",
     "output_type": "stream",
     "text": [
      "Training samples: 6\n",
      "Testing samples: 2\n"
     ]
    }
   ],
   "source": [
    "X_train, X_test, y_train, y_test= train_test_split(X, y, test_size=0.2, random_state=0)\n",
    "print('Training samples:' , len(X_train))\n",
    "print('Testing samples:' , len(X_test))"
   ]
  },
  {
   "cell_type": "code",
   "execution_count": 12,
   "id": "36cf831c-fbcc-49a5-b9a7-769db65b0486",
   "metadata": {},
   "outputs": [
    {
     "name": "stdout",
     "output_type": "stream",
     "text": [
      "Model trained suceessfully!\n"
     ]
    }
   ],
   "source": [
    "#Step5: Create the model and Step 6 : Train the Model\n",
    "model = LinearRegression()\n",
    "model.fit(X_train, y_train)\n",
    "print('Model trained suceessfully!')"
   ]
  },
  {
   "cell_type": "code",
   "execution_count": 14,
   "id": "5e87c0fb-3826-4b3a-a614-0a0f598155e8",
   "metadata": {},
   "outputs": [
    {
     "name": "stdout",
     "output_type": "stream",
     "text": [
      "[70 45]\n",
      "   Hours\n",
      "6      7\n",
      "2      3\n",
      "Actual: [np.int64(70), np.int64(45)]\n",
      "Predicted: [np.float64(72.2), np.float64(41.4)]\n"
     ]
    }
   ],
   "source": [
    "y_pred = model.predict(X_test)\n",
    "print(y_test.values)\n",
    "print(X_test)\n",
    "print('Actual:', list(y_test.values))\n",
    "print('Predicted:', list(y_pred))\n"
   ]
  },
  {
   "cell_type": "code",
   "execution_count": null,
   "id": "1a571aeb-b119-4d4a-ae4c-99198d4f3ef5",
   "metadata": {},
   "outputs": [],
   "source": []
  }
 ],
 "metadata": {
  "kernelspec": {
   "display_name": "Python [conda env:base] *",
   "language": "python",
   "name": "conda-base-py"
  },
  "language_info": {
   "codemirror_mode": {
    "name": "ipython",
    "version": 3
   },
   "file_extension": ".py",
   "mimetype": "text/x-python",
   "name": "python",
   "nbconvert_exporter": "python",
   "pygments_lexer": "ipython3",
   "version": "3.13.5"
  }
 },
 "nbformat": 4,
 "nbformat_minor": 5
}
