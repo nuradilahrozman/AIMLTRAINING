{
 "cells": [
  {
   "cell_type": "code",
   "execution_count": null,
   "id": "c36c1c3f-fa45-4a63-8104-80ab8ae358f8",
   "metadata": {},
   "outputs": [],
   "source": []
  },
  {
   "cell_type": "markdown",
   "id": "20a87547-14ec-4f51-96c2-2e0b98c161d9",
   "metadata": {},
   "source": [
    "# First Notebook\n",
    "## Steps to print a single line\n",
    "    We will create code cell\n",
    "    We will write print command\n",
    "    we will run the cell"
   ]
  },
  {
   "cell_type": "code",
   "execution_count": 2,
   "id": "6f0a892a-f810-4d93-91a0-6bdaa7c6c515",
   "metadata": {},
   "outputs": [
    {
     "name": "stdout",
     "output_type": "stream",
     "text": [
      "Welcome to Python notebook\n"
     ]
    }
   ],
   "source": [
    "print('Welcome to Python notebook')"
   ]
  },
  {
   "cell_type": "markdown",
   "id": "7aeb4e79-4af8-4a90-b243-74a89894166f",
   "metadata": {},
   "source": [
    "## For loop example"
   ]
  },
  {
   "cell_type": "code",
   "execution_count": 8,
   "id": "58dcfdf9-0b0e-4f5b-b882-b9779419262b",
   "metadata": {
    "scrolled": true
   },
   "outputs": [
    {
     "name": "stdout",
     "output_type": "stream",
     "text": [
      "1 2 3 4 5 6 7 8 9 10 11 12 13 14 15 16 17 18 19 20 21 22 23 24 25 26 27 28 29 30 31 32 33 34 35 36 37 38 39 40 41 42 43 44 45 46 47 48 49 50 51 52 53 54 55 56 57 58 59 60 61 62 63 64 65 66 67 68 69 70 71 72 73 74 75 76 77 78 79 80 81 82 83 84 85 86 87 88 89 90 91 92 93 94 95 96 97 98 99 100 "
     ]
    }
   ],
   "source": [
    "for num in range(1,101):\n",
    "    print(num,end=\" \")"
   ]
  },
  {
   "cell_type": "code",
   "execution_count": 24,
   "id": "341ad109-0049-4970-8888-c2f7ec460ce9",
   "metadata": {},
   "outputs": [],
   "source": [
    "players=(\"Dila\",\"Tony\",\"Sonya\",\"Pedro\",\"Miza\")"
   ]
  },
  {
   "cell_type": "code",
   "execution_count": 25,
   "id": "0bc590e2-a266-41f7-84fa-dbe8bd6b6170",
   "metadata": {
    "scrolled": true
   },
   "outputs": [
    {
     "name": "stdout",
     "output_type": "stream",
     "text": [
      "Dila\n",
      "Tony\n",
      "Sonya\n",
      "Pedro\n",
      "Miza\n"
     ]
    }
   ],
   "source": [
    "for player in players:\n",
    "    print(player)"
   ]
  },
  {
   "cell_type": "code",
   "execution_count": null,
   "id": "2f476860-d4b4-4959-bc83-d6c00014e7d0",
   "metadata": {},
   "outputs": [],
   "source": []
  }
 ],
 "metadata": {
  "kernelspec": {
   "display_name": "Python [conda env:base] *",
   "language": "python",
   "name": "conda-base-py"
  },
  "language_info": {
   "codemirror_mode": {
    "name": "ipython",
    "version": 3
   },
   "file_extension": ".py",
   "mimetype": "text/x-python",
   "name": "python",
   "nbconvert_exporter": "python",
   "pygments_lexer": "ipython3",
   "version": "3.13.5"
  }
 },
 "nbformat": 4,
 "nbformat_minor": 5
}
