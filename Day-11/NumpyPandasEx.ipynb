{
 "cells": [
  {
   "cell_type": "code",
   "execution_count": 1,
   "id": "2c947cbf-7a3c-4bdf-b697-d2d5664bae30",
   "metadata": {},
   "outputs": [],
   "source": [
    "import pandas as pd\n",
    "import numpy as np"
   ]
  },
  {
   "cell_type": "code",
   "execution_count": 9,
   "id": "cd3f5bb0-af1d-4e24-8eed-acb554fc725c",
   "metadata": {},
   "outputs": [
    {
     "name": "stdout",
     "output_type": "stream",
     "text": [
      "    Name  Age  Marks\n",
      "0   John   20     85\n",
      "1  Alice   22     90\n",
      "2    Bob   21     78\n",
      "3   Sara   23     92\n",
      "4    Sam   25     90\n",
      "5  Rohit   23     45\n"
     ]
    }
   ],
   "source": [
    "df=pd.read_excel('students.xlsx')\n",
    "print(df)"
   ]
  },
  {
   "cell_type": "code",
   "execution_count": 10,
   "id": "015ed77e-1bea-4cf1-9bc1-83ccb007049f",
   "metadata": {},
   "outputs": [
    {
     "name": "stdout",
     "output_type": "stream",
     "text": [
      "Numpy Array of Marks\n",
      "[85 90 78 92 90 45]\n"
     ]
    }
   ],
   "source": [
    "marks=df['Marks'].to_numpy()\n",
    "print('Numpy Array of Marks')\n",
    "print(marks)"
   ]
  },
  {
   "cell_type": "code",
   "execution_count": 11,
   "id": "c129e6f8-6985-447b-a137-6542b15329fc",
   "metadata": {},
   "outputs": [
    {
     "name": "stdout",
     "output_type": "stream",
     "text": [
      "Highest Marks 92\n"
     ]
    }
   ],
   "source": [
    "print('Highest Marks',np.max(marks))"
   ]
  },
  {
   "cell_type": "code",
   "execution_count": 12,
   "id": "56c1505e-6f16-4a89-884b-ee648bbdd635",
   "metadata": {},
   "outputs": [
    {
     "name": "stdout",
     "output_type": "stream",
     "text": [
      "Lowest Marks 45\n"
     ]
    }
   ],
   "source": [
    "print('Lowest Marks' , np.min(marks))"
   ]
  },
  {
   "cell_type": "code",
   "execution_count": 14,
   "id": "e0c19e7d-4227-4cea-bb37-f06bcfdbdbd9",
   "metadata": {},
   "outputs": [
    {
     "name": "stdout",
     "output_type": "stream",
     "text": [
      "Average Marks 80.0\n"
     ]
    }
   ],
   "source": [
    "print('Average Marks', np.mean(marks))"
   ]
  },
  {
   "cell_type": "markdown",
   "id": "e2c50fdf-4bdd-4352-b4ce-b9434d9eb1d5",
   "metadata": {},
   "source": [
    "# .loc:Label Based\n",
    "# .iloc:Index Based"
   ]
  },
  {
   "cell_type": "code",
   "execution_count": 15,
   "id": "2913061b-5d93-4067-aa3d-0ebf5f952a6c",
   "metadata": {},
   "outputs": [
    {
     "name": "stdout",
     "output_type": "stream",
     "text": [
      "Original dataframe\n",
      "    Name  Age  Marks\n",
      "0   John   20     85\n",
      "1  Alice   22     90\n",
      "2    Bob   21     78\n",
      "3   Sara   23     92\n",
      "4    Sam   25     90\n",
      "5  Rohit   23     45\n",
      "Location : Label Based\n",
      "Name     Bob\n",
      "Marks     78\n",
      "Name: 2, dtype: object\n"
     ]
    }
   ],
   "source": [
    "print('Original dataframe')\n",
    "print(df)\n",
    "print('Location : Label Based')\n",
    "print(df.loc[2,['Name','Marks']])"
   ]
  },
  {
   "cell_type": "code",
   "execution_count": 17,
   "id": "c709fd44-ab48-4458-9ff4-543cb827399b",
   "metadata": {},
   "outputs": [
    {
     "name": "stdout",
     "output_type": "stream",
     "text": [
      "Original dataframe\n",
      "    Name  Age  Marks\n",
      "0   John   20     85\n",
      "1  Alice   22     90\n",
      "2    Bob   21     78\n",
      "3   Sara   23     92\n",
      "4    Sam   25     90\n",
      "5  Rohit   23     45\n",
      "Location : Index Based\n",
      "Age      21\n",
      "Marks    78\n",
      "Name: 2, dtype: object\n"
     ]
    }
   ],
   "source": [
    "print('Original dataframe')\n",
    "print(df)\n",
    "print('Location : Index Based')\n",
    "print(df.iloc[2,[1,2]])"
   ]
  },
  {
   "cell_type": "markdown",
   "id": "430250a0-e04e-4f10-8d1d-ef21bcf2cd6f",
   "metadata": {},
   "source": [
    "# Axis in Numpy: \n",
    "    1.Axis 0 :Vertical direction : works columns-wise\n",
    "    2.Axis 1 :horizontal direction : works rows-wise\n"
   ]
  },
  {
   "cell_type": "markdown",
   "id": "8eba7901-2558-4089-a22b-0bb0472dbffc",
   "metadata": {},
   "source": [
    "# We have two students marks in 3 subjects\n",
    "    # [[45,50,49] , [30,45,49]]\n",
    "    "
   ]
  },
  {
   "cell_type": "code",
   "execution_count": 2,
   "id": "5c3b36af-adfc-4706-9f4b-22a05032af01",
   "metadata": {},
   "outputs": [
    {
     "name": "stdout",
     "output_type": "stream",
     "text": [
      "[[45 50 49]\n",
      " [30 45 49]]\n"
     ]
    }
   ],
   "source": [
    "marks_arr=np.array([[45,50,49] , [30,45,49]])\n",
    "print(marks_arr)"
   ]
  },
  {
   "cell_type": "code",
   "execution_count": 5,
   "id": "322b3813-42ab-4319-a67b-b8185a5d46ea",
   "metadata": {},
   "outputs": [
    {
     "name": "stdout",
     "output_type": "stream",
     "text": [
      "sum down each column [75 95 98]\n"
     ]
    }
   ],
   "source": [
    "#Axis=0 ,column\n",
    "print('sum down each column',np.sum(marks_arr,axis=0)) "
   ]
  },
  {
   "cell_type": "code",
   "execution_count": 7,
   "id": "a29cdd98-c70c-4801-865c-be2f02fbdbde",
   "metadata": {},
   "outputs": [
    {
     "name": "stdout",
     "output_type": "stream",
     "text": [
      "sum down each rows [144 124]\n"
     ]
    }
   ],
   "source": [
    "#Axis=1 ,rows\n",
    "print('sum down each rows',np.sum(marks_arr,axis=1))"
   ]
  },
  {
   "cell_type": "code",
   "execution_count": 18,
   "id": "377ccd98-bf76-43fd-98ed-dfa157d7c2d7",
   "metadata": {},
   "outputs": [
    {
     "name": "stdout",
     "output_type": "stream",
     "text": [
      "Numpy Array of Marks\n",
      "[85 90 78 92 90 45]\n"
     ]
    }
   ],
   "source": [
    "print('Numpy Array of Marks')\n",
    "print(marks)"
   ]
  },
  {
   "cell_type": "code",
   "execution_count": 19,
   "id": "61baf3ad-71db-406a-a6d6-00dedd678bc6",
   "metadata": {},
   "outputs": [
    {
     "name": "stdout",
     "output_type": "stream",
     "text": [
      "    Name  Age  Marks\n",
      "0   John   20     85\n",
      "1  Alice   22     90\n",
      "2    Bob   21     78\n",
      "3   Sara   23     92\n",
      "4    Sam   25     90\n",
      "5  Rohit   23     45\n"
     ]
    }
   ],
   "source": [
    "print(df)"
   ]
  },
  {
   "cell_type": "markdown",
   "id": "0c130ab2-8fa3-4634-bd6c-4f46cc961326",
   "metadata": {},
   "source": [
    "# Find the Student Name who got highest marks"
   ]
  },
  {
   "cell_type": "code",
   "execution_count": 20,
   "id": "2c9730ed-f69c-4846-8e42-3c14b1394100",
   "metadata": {},
   "outputs": [
    {
     "name": "stdout",
     "output_type": "stream",
     "text": [
      "Sara\n"
     ]
    }
   ],
   "source": [
    "topper=df.loc[df['Marks'].idxmax(),'Name']\n",
    "print(topper)"
   ]
  },
  {
   "cell_type": "code",
   "execution_count": 21,
   "id": "264b7b4b-55bd-4afb-b4cb-52ff758e018f",
   "metadata": {},
   "outputs": [
    {
     "name": "stdout",
     "output_type": "stream",
     "text": [
      "Rohit\n"
     ]
    }
   ],
   "source": [
    "lastinclass=df.loc[df['Marks'].idxmin(),'Name']\n",
    "print(lastinclass)"
   ]
  },
  {
   "cell_type": "code",
   "execution_count": 22,
   "id": "96589b89-f4f4-4474-9d3b-1b22389b006d",
   "metadata": {},
   "outputs": [
    {
     "name": "stdout",
     "output_type": "stream",
     "text": [
      "Next Example\n"
     ]
    }
   ],
   "source": [
    "print('Next Example')"
   ]
  },
  {
   "cell_type": "code",
   "execution_count": 23,
   "id": "75970178-96b6-49cd-a675-2f6dc1784d0a",
   "metadata": {},
   "outputs": [
    {
     "name": "stdout",
     "output_type": "stream",
     "text": [
      "Topper of the Class is: Sara\n"
     ]
    }
   ],
   "source": [
    "top_index=df['Marks'].idxmax()\n",
    "top_student=df.iloc[top_index,df.columns.get_loc('Name')]\n",
    "print('Topper of the Class is:', top_student)"
   ]
  },
  {
   "cell_type": "code",
   "execution_count": null,
   "id": "7287fcea-1e6c-4bc8-a183-b6b8a5b49061",
   "metadata": {},
   "outputs": [],
   "source": []
  }
 ],
 "metadata": {
  "kernelspec": {
   "display_name": "Python [conda env:base] *",
   "language": "python",
   "name": "conda-base-py"
  },
  "language_info": {
   "codemirror_mode": {
    "name": "ipython",
    "version": 3
   },
   "file_extension": ".py",
   "mimetype": "text/x-python",
   "name": "python",
   "nbconvert_exporter": "python",
   "pygments_lexer": "ipython3",
   "version": "3.13.5"
  }
 },
 "nbformat": 4,
 "nbformat_minor": 5
}
