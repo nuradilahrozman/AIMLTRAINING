{
 "cells": [
  {
   "cell_type": "markdown",
   "id": "2cc4fc9f-1b96-474a-a839-88b156490cb2",
   "metadata": {},
   "source": [
    "# Numpy Introduction and usage\n",
    "## We will use numpy in this jupyter notebook"
   ]
  },
  {
   "cell_type": "markdown",
   "id": "8cd0c938-faf7-40e8-b439-a8e5fc884564",
   "metadata": {},
   "source": [
    "# One Dimensional Array (1-d)"
   ]
  },
  {
   "cell_type": "code",
   "execution_count": 102,
   "id": "bd26b959-a544-4f35-8f01-5399c7becab5",
   "metadata": {},
   "outputs": [],
   "source": [
    "\n",
    "import numpy as np"
   ]
  },
  {
   "cell_type": "code",
   "execution_count": 3,
   "id": "09410aa7-62e7-4a32-9ace-24b8a1121338",
   "metadata": {},
   "outputs": [],
   "source": [
    "array1=np.array([10,20,30,40,50])"
   ]
  },
  {
   "cell_type": "code",
   "execution_count": 4,
   "id": "9e8b20a7-9172-4de1-92c6-6024b4327ba9",
   "metadata": {},
   "outputs": [
    {
     "name": "stdout",
     "output_type": "stream",
     "text": [
      "[10 20 30 40 50]\n"
     ]
    }
   ],
   "source": [
    "print(array1)"
   ]
  },
  {
   "cell_type": "markdown",
   "id": "39ebe5de-54db-4af4-9b12-10f0db84cfd2",
   "metadata": {},
   "source": [
    "# Two Dimensional Array (2-D)"
   ]
  },
  {
   "cell_type": "code",
   "execution_count": 6,
   "id": "9004bc13-1ae0-4a88-ac68-b907cf9f145a",
   "metadata": {},
   "outputs": [],
   "source": [
    "array_two=np.array([[10,20,30],[40,50,60]])"
   ]
  },
  {
   "cell_type": "code",
   "execution_count": 7,
   "id": "dee931f7-57b2-4024-a23f-b4507ab7612a",
   "metadata": {},
   "outputs": [
    {
     "name": "stdout",
     "output_type": "stream",
     "text": [
      "[[10 20 30]\n",
      " [40 50 60]]\n"
     ]
    }
   ],
   "source": [
    "print(array_two)"
   ]
  },
  {
   "cell_type": "markdown",
   "id": "eb6ee5de-d9db-469f-a720-214ac2de6d66",
   "metadata": {},
   "source": [
    "# Three Dimensional Array (3-D Array)"
   ]
  },
  {
   "cell_type": "code",
   "execution_count": 11,
   "id": "f07284b9-4ece-4437-812b-fffc18fd953d",
   "metadata": {},
   "outputs": [],
   "source": [
    "array_three=np.array([[[10,20,30],[40,50,60]],[[80,40,90],[40,30,20]]])"
   ]
  },
  {
   "cell_type": "code",
   "execution_count": 12,
   "id": "e3889f1b-6f5a-4643-a90e-b9b026d1492b",
   "metadata": {},
   "outputs": [
    {
     "name": "stdout",
     "output_type": "stream",
     "text": [
      "[[[10 20 30]\n",
      "  [40 50 60]]\n",
      "\n",
      " [[80 40 90]\n",
      "  [40 30 20]]]\n"
     ]
    }
   ],
   "source": [
    "print(array_three)"
   ]
  },
  {
   "cell_type": "markdown",
   "id": "8862f37e-2d60-461d-b1c8-3808d3acaf07",
   "metadata": {},
   "source": [
    "# Find out Dimension of Numpy array"
   ]
  },
  {
   "cell_type": "code",
   "execution_count": 13,
   "id": "f8369b3c-f7aa-4e0f-89aa-a5adaa508068",
   "metadata": {},
   "outputs": [
    {
     "name": "stdout",
     "output_type": "stream",
     "text": [
      "First Array Dimension:  1\n"
     ]
    }
   ],
   "source": [
    "print('First Array Dimension: ',array1.ndim)"
   ]
  },
  {
   "cell_type": "code",
   "execution_count": 14,
   "id": "5c2d419c-8793-4a36-99dc-5b70feca927a",
   "metadata": {},
   "outputs": [
    {
     "name": "stdout",
     "output_type": "stream",
     "text": [
      "Second Array Dimension:  2\n"
     ]
    }
   ],
   "source": [
    "print('Second Array Dimension: ',array_two.ndim)"
   ]
  },
  {
   "cell_type": "code",
   "execution_count": 15,
   "id": "e8f31aaa-829b-412a-aa3f-157319689a7a",
   "metadata": {},
   "outputs": [
    {
     "name": "stdout",
     "output_type": "stream",
     "text": [
      "Three Array Dimension:  3\n"
     ]
    }
   ],
   "source": [
    "print('Three Array Dimension: ',array_three.ndim)"
   ]
  },
  {
   "cell_type": "markdown",
   "id": "d045100b-1fb7-4bb8-924c-45bb1eb22728",
   "metadata": {},
   "source": [
    "# Write an array of 5 students marks using Numpy\n",
    "    ##Marks are: 80,70,99,89"
   ]
  },
  {
   "cell_type": "code",
   "execution_count": 16,
   "id": "8274def2-44b8-466b-b9fe-55ae04174342",
   "metadata": {},
   "outputs": [],
   "source": [
    "array_marks=np.array([80,70,99,89])"
   ]
  },
  {
   "cell_type": "code",
   "execution_count": 25,
   "id": "e181feb2-50cd-4bcf-8911-47a522c9788a",
   "metadata": {},
   "outputs": [
    {
     "name": "stdout",
     "output_type": "stream",
     "text": [
      "Array of student marks\n",
      "[80 70 99 89]\n"
     ]
    }
   ],
   "source": [
    "print('Array of student marks')\n",
    "print(array_marks)"
   ]
  },
  {
   "cell_type": "markdown",
   "id": "a96eeec4-6eb0-4972-bb16-4d807588a222",
   "metadata": {},
   "source": [
    "# Write an array:to take Marks of 5 students in 3 subjects using Numpy\n",
    "## Math,English,Chemistry\n",
    "## [[50,45,49],[40,42,45],[35,40,46],[39,40,50],[49,40,50]]"
   ]
  },
  {
   "cell_type": "code",
   "execution_count": 26,
   "id": "ba56b9ca-2faf-4719-bbe5-bfee24c2dd19",
   "metadata": {},
   "outputs": [
    {
     "name": "stdout",
     "output_type": "stream",
     "text": [
      "2-D Array Example\n",
      "[[50 45 49]\n",
      " [40 42 45]\n",
      " [35 40 46]\n",
      " [39 40 50]\n",
      " [49 40 50]]\n"
     ]
    }
   ],
   "source": [
    "array_marks_sub=np.array([[50,45,49],[40,42,45],[35,40,46],[39,40,50],[49,40,50]])\n",
    "print('2-D Array Example')\n",
    "print(array_marks_sub)"
   ]
  },
  {
   "cell_type": "markdown",
   "id": "041747b6-4115-4feb-9501-3c84bce56a5f",
   "metadata": {},
   "source": [
    "# Write an array: to take Marks of 4 students in 3 subject for two semseter using Numpy\n",
    "    ## Student Name are: 'Dila','Syasa','Mira','Arif','Chun Wei'\n",
    "    ## Math, English, Chemistry\n",
    "    ## Two semester : sem1 , sem2\n",
    "    ## 4*3*2\n",
    "    ## [[[85,89],[78,90],[88,90]],[[90,85],[96,79],[93,88]],[[75,85],[77,80],[80,88]],[[67,80],[72,79],[77,87]]]\n"
   ]
  },
  {
   "cell_type": "code",
   "execution_count": 29,
   "id": "f5c3b2fa-5a73-4e49-bc8c-a8488379b2ef",
   "metadata": {},
   "outputs": [],
   "source": [
    "marks_subject_sem=np.array([[[85,89],[78,90],[88,90]],\n",
    "                            [[90,85],[96,79],[93,88]],\n",
    "                            [[75,85],[77,80],[80,88]],\n",
    "                            [[67,80],[72,79],[77,87]]])"
   ]
  },
  {
   "cell_type": "code",
   "execution_count": 30,
   "id": "1c528b4c-e9b9-426d-91ae-2609526d6d69",
   "metadata": {},
   "outputs": [
    {
     "name": "stdout",
     "output_type": "stream",
     "text": [
      "[[[85 89]\n",
      "  [78 90]\n",
      "  [88 90]]\n",
      "\n",
      " [[90 85]\n",
      "  [96 79]\n",
      "  [93 88]]\n",
      "\n",
      " [[75 85]\n",
      "  [77 80]\n",
      "  [80 88]]\n",
      "\n",
      " [[67 80]\n",
      "  [72 79]\n",
      "  [77 87]]]\n"
     ]
    }
   ],
   "source": [
    "print(marks_subject_sem)"
   ]
  },
  {
   "cell_type": "markdown",
   "id": "a98cbb19-a6da-4c04-9637-4073e175f2fb",
   "metadata": {},
   "source": [
    "## Write an array: to take Wheater of 2 cities in 3 days for three times in a day morning,noon and evening¶\n",
    "    ## cities Names area: 'Kuala Lumpur', 'Delhi'\n",
    "    ## Saturday, Sunday ,Monday\n",
    "    ## Three time slot: Morning, Noon and Evening\n",
    "## Create one 3-D Array for this using NumPy and print it\n"
   ]
  },
  {
   "cell_type": "code",
   "execution_count": 36,
   "id": "e65b0aa4-97db-4a92-8508-9e5893b4f477",
   "metadata": {},
   "outputs": [
    {
     "name": "stdout",
     "output_type": "stream",
     "text": [
      "[[['cloudy' 'raining' 'raining']\n",
      "  ['Partly Cloudy' 'Sunny' 'Partly Cloudy']\n",
      "  ['Sunny' 'Sunny' 'Partly Cloudy']]\n",
      "\n",
      " [['sunny' 'sunny' 'Partly sunny']\n",
      "  ['Raining' 'Sunny' 'Partly Cloudy']\n",
      "  ['Sunny' 'windy' 'Partly Cloudy']]]\n"
     ]
    }
   ],
   "source": [
    "City_Wheater=np.array([[['cloudy','raining','raining'],['Partly Cloudy','Sunny','Partly Cloudy'],['Sunny','Sunny','Partly Cloudy']],\n",
    "                      [['sunny','sunny','Partly sunny'],['Raining','Sunny','Partly Cloudy'],['Sunny','windy','Partly Cloudy']]])\n",
    "print(City_Wheater)\n",
    "                      "
   ]
  },
  {
   "cell_type": "markdown",
   "id": "ac5d848e-2b5d-4da7-a221-a811a5675642",
   "metadata": {},
   "source": [
    "# Basic Information\n",
    "    ## Shape: rows and cols\n",
    "    ## Size : number of elements\n",
    "    ## Dimension : return 1,2,3...\n",
    "    ## Data type : return stored data values type"
   ]
  },
  {
   "cell_type": "code",
   "execution_count": 37,
   "id": "bc682211-6895-46b3-8b3b-3fecd0fd029a",
   "metadata": {},
   "outputs": [
    {
     "name": "stdout",
     "output_type": "stream",
     "text": [
      "[10 20 30 40 50]\n"
     ]
    }
   ],
   "source": [
    "print(array1)"
   ]
  },
  {
   "cell_type": "code",
   "execution_count": 38,
   "id": "4e1a7506-c245-4ca8-b44a-bbfc153aea13",
   "metadata": {},
   "outputs": [
    {
     "name": "stdout",
     "output_type": "stream",
     "text": [
      "Shape of array1 :  (5,)\n"
     ]
    }
   ],
   "source": [
    "print(\"Shape of array1 : \",array1.shape)"
   ]
  },
  {
   "cell_type": "code",
   "execution_count": 39,
   "id": "41437eff-973d-4ec9-b5a0-ba93555c6fd7",
   "metadata": {},
   "outputs": [
    {
     "name": "stdout",
     "output_type": "stream",
     "text": [
      "Size of array1:  5\n"
     ]
    }
   ],
   "source": [
    "print(\"Size of array1: \",array1.size)"
   ]
  },
  {
   "cell_type": "code",
   "execution_count": 40,
   "id": "5008580c-4dbb-4cea-bbaa-df2214a52cb7",
   "metadata": {},
   "outputs": [
    {
     "name": "stdout",
     "output_type": "stream",
     "text": [
      "Dimension :  1\n"
     ]
    }
   ],
   "source": [
    "print('Dimension : ', array1.ndim)"
   ]
  },
  {
   "cell_type": "code",
   "execution_count": 41,
   "id": "5f2ebe4f-2f38-4c2c-baea-deb346e0266f",
   "metadata": {},
   "outputs": [
    {
     "name": "stdout",
     "output_type": "stream",
     "text": [
      "Data Type :  int64\n"
     ]
    }
   ],
   "source": [
    "print('Data Type : ', array1.dtype)"
   ]
  },
  {
   "cell_type": "code",
   "execution_count": 42,
   "id": "9b7a6ba7-3b6f-4488-be59-fb9ac3584c06",
   "metadata": {},
   "outputs": [],
   "source": [
    "students=np.array(['Arif',' Gogu', 'KY', 'Chun Wei', 'Miza'])"
   ]
  },
  {
   "cell_type": "code",
   "execution_count": 43,
   "id": "9db424ec-0651-4a02-8d45-5e0eb6c446ce",
   "metadata": {},
   "outputs": [
    {
     "name": "stdout",
     "output_type": "stream",
     "text": [
      "['Arif' ' Gogu' 'KY' 'Chun Wei' 'Miza']\n"
     ]
    }
   ],
   "source": [
    "print(students)"
   ]
  },
  {
   "cell_type": "code",
   "execution_count": 44,
   "id": "1283cf70-7b19-462b-bbcb-d3526e7841e4",
   "metadata": {},
   "outputs": [
    {
     "name": "stdout",
     "output_type": "stream",
     "text": [
      "Shape of Array : (5,)\n"
     ]
    }
   ],
   "source": [
    "print('Shape of Array :', students.shape)"
   ]
  },
  {
   "cell_type": "code",
   "execution_count": 45,
   "id": "a2d06401-a9a6-414d-9ed5-37342754e9d0",
   "metadata": {},
   "outputs": [
    {
     "name": "stdout",
     "output_type": "stream",
     "text": [
      "Number of students:  5\n"
     ]
    }
   ],
   "source": [
    "print(\"Number of students: \",students.size)"
   ]
  },
  {
   "cell_type": "code",
   "execution_count": 46,
   "id": "5327b865-1e6d-4c09-8769-662650ac7614",
   "metadata": {},
   "outputs": [
    {
     "name": "stdout",
     "output_type": "stream",
     "text": [
      "Data Type :  <U8\n"
     ]
    }
   ],
   "source": [
    "print('Data Type : ', students.dtype)"
   ]
  },
  {
   "cell_type": "markdown",
   "id": "a503d0fe-70b5-4d68-b326-022e5c485e09",
   "metadata": {},
   "source": [
    "# Mathematical Operation"
   ]
  },
  {
   "cell_type": "code",
   "execution_count": 47,
   "id": "beec8580-f70a-402e-be1c-13d243263519",
   "metadata": {},
   "outputs": [
    {
     "name": "stdout",
     "output_type": "stream",
     "text": [
      "[10 20 30 40 50]\n"
     ]
    }
   ],
   "source": [
    "print(array1)"
   ]
  },
  {
   "cell_type": "code",
   "execution_count": 49,
   "id": "997ac9d5-3971-4c16-97fe-f0b69e28f3fc",
   "metadata": {},
   "outputs": [],
   "source": [
    "total=np.sum(array1)"
   ]
  },
  {
   "cell_type": "code",
   "execution_count": 50,
   "id": "8bdf8970-d84b-4dab-888a-d873617b249c",
   "metadata": {},
   "outputs": [
    {
     "name": "stdout",
     "output_type": "stream",
     "text": [
      "150\n"
     ]
    }
   ],
   "source": [
    "print(total)"
   ]
  },
  {
   "cell_type": "code",
   "execution_count": 52,
   "id": "31311e08-8c72-4777-82cb-05669c3c6ca6",
   "metadata": {},
   "outputs": [
    {
     "name": "stdout",
     "output_type": "stream",
     "text": [
      "Average: 30.0\n"
     ]
    }
   ],
   "source": [
    "print('Mean:',np.mean(array1))"
   ]
  },
  {
   "cell_type": "code",
   "execution_count": 53,
   "id": "abefa158-fa87-4072-9118-6cc5e8969fc5",
   "metadata": {},
   "outputs": [
    {
     "name": "stdout",
     "output_type": "stream",
     "text": [
      "Max: 50\n"
     ]
    }
   ],
   "source": [
    "print('Max:',np.max(array1))"
   ]
  },
  {
   "cell_type": "code",
   "execution_count": 55,
   "id": "7cb468ab-5d87-4450-808a-5b538b595da4",
   "metadata": {},
   "outputs": [
    {
     "name": "stdout",
     "output_type": "stream",
     "text": [
      "Min: 10\n"
     ]
    }
   ],
   "source": [
    "print('Min:',np.min(array1))"
   ]
  },
  {
   "cell_type": "code",
   "execution_count": 56,
   "id": "edb97d02-bc38-4f16-9781-f9681c095022",
   "metadata": {},
   "outputs": [
    {
     "name": "stdout",
     "output_type": "stream",
     "text": [
      "Index of Min: 0\n"
     ]
    }
   ],
   "source": [
    "print('Index of Min:',np.argmin(array1))"
   ]
  },
  {
   "cell_type": "code",
   "execution_count": 57,
   "id": "9ff913df-a4af-4da6-a59f-d74e90bf4ec0",
   "metadata": {},
   "outputs": [
    {
     "name": "stdout",
     "output_type": "stream",
     "text": [
      "Index of Max: 4\n"
     ]
    }
   ],
   "source": [
    "print('Index of Max:',np.argmax(array1))"
   ]
  },
  {
   "cell_type": "code",
   "execution_count": 58,
   "id": "b4d4fcee-9936-423b-9e7d-519d9b10e23c",
   "metadata": {},
   "outputs": [],
   "source": [
    "our_arr=np.array([100,200,300,7000,800,500,300,1900,600])"
   ]
  },
  {
   "cell_type": "code",
   "execution_count": 59,
   "id": "d324a1f7-4b13-409c-a0a8-4822bea3e926",
   "metadata": {},
   "outputs": [
    {
     "name": "stdout",
     "output_type": "stream",
     "text": [
      "[ 100  200  300 7000  800  500  300 1900  600]\n"
     ]
    }
   ],
   "source": [
    "print(our_arr)"
   ]
  },
  {
   "cell_type": "markdown",
   "id": "832b2a2c-8a74-414a-ab55-d9db2e58ca5b",
   "metadata": {},
   "source": [
    "# searching and sorting Example in 1-D array"
   ]
  },
  {
   "cell_type": "code",
   "execution_count": 64,
   "id": "e91e4c1f-9c32-41f4-9e63-81c6042a2bf1",
   "metadata": {},
   "outputs": [
    {
     "name": "stdout",
     "output_type": "stream",
     "text": [
      "*****Sorted Array*****\n",
      "[ 100  200  300  300  500  600  800 1900 7000]\n"
     ]
    }
   ],
   "source": [
    "sorted_arr=np.sort(our_arr)\n",
    "print('*****Sorted Array*****')\n",
    "print(sorted_arr)"
   ]
  },
  {
   "cell_type": "code",
   "execution_count": 66,
   "id": "1052151c-cb38-4db8-ab1b-4caa7b04637b",
   "metadata": {},
   "outputs": [
    {
     "name": "stdout",
     "output_type": "stream",
     "text": [
      "any Example:  True\n"
     ]
    }
   ],
   "source": [
    "print('any Example: ',np.any(sorted_arr>500))"
   ]
  },
  {
   "cell_type": "code",
   "execution_count": 67,
   "id": "975b3d67-0e42-4892-a32b-b5a52dd474b2",
   "metadata": {},
   "outputs": [
    {
     "name": "stdout",
     "output_type": "stream",
     "text": [
      "All greater than 500:  False\n"
     ]
    }
   ],
   "source": [
    "print('All greater than 500?: ',np.all(sorted_arr>500))"
   ]
  },
  {
   "cell_type": "code",
   "execution_count": 70,
   "id": "36f3dda6-997d-45b7-8916-e1063684a3ca",
   "metadata": {},
   "outputs": [
    {
     "name": "stdout",
     "output_type": "stream",
     "text": [
      "All greater than 99?:  True\n"
     ]
    }
   ],
   "source": [
    "print('All greater than 99?: ',np.all(sorted_arr>99))"
   ]
  },
  {
   "cell_type": "code",
   "execution_count": 71,
   "id": "1e26ceb4-d6d2-43b2-b959-3a9bff7b0cf5",
   "metadata": {},
   "outputs": [
    {
     "name": "stdout",
     "output_type": "stream",
     "text": [
      "Where values >500:  (array([5, 6, 7, 8]),)\n"
     ]
    }
   ],
   "source": [
    "print('Where values >500: ',np.where(sorted_arr>500))"
   ]
  },
  {
   "cell_type": "code",
   "execution_count": 73,
   "id": "5b3cce25-6e18-4cdd-b504-ff017fd04a30",
   "metadata": {},
   "outputs": [
    {
     "name": "stdout",
     "output_type": "stream",
     "text": [
      "All Number greater than 500\n",
      "[5 6 7 8]\n"
     ]
    }
   ],
   "source": [
    "print('All Number greater than 500')\n",
    "for num in np.where(sorted_arr>500):\n",
    "    print(num)"
   ]
  },
  {
   "cell_type": "code",
   "execution_count": 74,
   "id": "0fc9f2a1-9b86-4785-9476-ae458e7caa3d",
   "metadata": {},
   "outputs": [
    {
     "name": "stdout",
     "output_type": "stream",
     "text": [
      "All Number greater than 500\n",
      "False\n",
      "False\n",
      "False\n",
      "False\n",
      "False\n",
      "True\n",
      "True\n",
      "True\n",
      "True\n"
     ]
    }
   ],
   "source": [
    "print('All Number greater than 500')\n",
    "for num in sorted_arr>500:\n",
    "    print(num)"
   ]
  },
  {
   "cell_type": "code",
   "execution_count": 75,
   "id": "7d7e1bb9-bbaf-4710-8c4f-2993cd713547",
   "metadata": {},
   "outputs": [
    {
     "name": "stdout",
     "output_type": "stream",
     "text": [
      "[ 600  800 1900 7000]\n"
     ]
    }
   ],
   "source": [
    "selected_values=sorted_arr[sorted_arr>500]\n",
    "print(selected_values)"
   ]
  },
  {
   "cell_type": "code",
   "execution_count": 81,
   "id": "0a4f207f-5dac-4da6-9180-9032afaaad87",
   "metadata": {},
   "outputs": [
    {
     "name": "stdout",
     "output_type": "stream",
     "text": [
      "600\n",
      "800\n",
      "1900\n",
      "7000\n"
     ]
    }
   ],
   "source": [
    "##or code this way\n",
    "for num in selected_values:\n",
    "    print(num)"
   ]
  },
  {
   "cell_type": "code",
   "execution_count": 82,
   "id": "4aa54215-3765-4637-8301-c9ab286ba2e8",
   "metadata": {},
   "outputs": [
    {
     "name": "stdout",
     "output_type": "stream",
     "text": [
      "600\n",
      "800\n",
      "1900\n",
      "7000\n"
     ]
    }
   ],
   "source": [
    "## or code this way\n",
    "for num in sorted_arr[sorted_arr>500]:\n",
    "    print(num)"
   ]
  },
  {
   "cell_type": "code",
   "execution_count": 83,
   "id": "72061335-f404-4025-a0c9-e66c54d00140",
   "metadata": {},
   "outputs": [
    {
     "name": "stdout",
     "output_type": "stream",
     "text": [
      "  [ 600  800 1900 7000]\n"
     ]
    }
   ],
   "source": [
    "## or this way\n",
    "print(' ',sorted_arr[sorted_arr>500])"
   ]
  },
  {
   "cell_type": "markdown",
   "id": "00dd7e44-4bb0-4263-914a-5f694c4d760a",
   "metadata": {},
   "source": [
    "# Slicing 1-D Array\n",
    "    1.To take elememts from the starting index to end index\n",
    "    2.e.g. [start:end]"
   ]
  },
  {
   "cell_type": "code",
   "execution_count": 86,
   "id": "f1693bc7-96b7-42f3-a947-b6b8c99365df",
   "metadata": {},
   "outputs": [
    {
     "name": "stdout",
     "output_type": "stream",
     "text": [
      "[ 100  200  300  300  500  600  800 1900 7000]\n"
     ]
    }
   ],
   "source": [
    "print (sorted_arr)"
   ]
  },
  {
   "cell_type": "code",
   "execution_count": 88,
   "id": "f9c4b705-f01b-4304-b967-ca295fa5b4bc",
   "metadata": {},
   "outputs": [
    {
     "name": "stdout",
     "output_type": "stream",
     "text": [
      "[200 300]\n"
     ]
    }
   ],
   "source": [
    "slice_our_arr=sorted_arr[1:3]\n",
    "print(slice_our_arr)"
   ]
  },
  {
   "cell_type": "markdown",
   "id": "c61e580c-84d8-4805-bea9-ff9a520e0918",
   "metadata": {},
   "source": [
    "# starting from index and going till last"
   ]
  },
  {
   "cell_type": "code",
   "execution_count": 89,
   "id": "b5967d67-7b15-46ab-a977-5970f9c60ab1",
   "metadata": {},
   "outputs": [
    {
     "name": "stdout",
     "output_type": "stream",
     "text": [
      "[ 300  500  600  800 1900 7000]\n"
     ]
    }
   ],
   "source": [
    "print(sorted_arr[3:])"
   ]
  },
  {
   "cell_type": "code",
   "execution_count": 90,
   "id": "35df7bf8-5b16-44c6-88dc-0c4958b2c608",
   "metadata": {},
   "outputs": [
    {
     "name": "stdout",
     "output_type": "stream",
     "text": [
      "[100 200 300 300]\n"
     ]
    }
   ],
   "source": [
    "print(sorted_arr[:4])"
   ]
  },
  {
   "cell_type": "code",
   "execution_count": 91,
   "id": "f7c6180d-f459-4452-844b-3e76da1061d6",
   "metadata": {},
   "outputs": [
    {
     "name": "stdout",
     "output_type": "stream",
     "text": [
      "[ 600  800 1900 7000]\n"
     ]
    }
   ],
   "source": [
    "print(sorted_arr[5:])"
   ]
  },
  {
   "cell_type": "markdown",
   "id": "5f47da1a-94c0-40cb-bf10-b156a248dae0",
   "metadata": {},
   "source": [
    "# step\n",
    "    ## [start:end:step]\n",
    "    ## step: every step element"
   ]
  },
  {
   "cell_type": "code",
   "execution_count": 92,
   "id": "3534eaa6-0756-4442-aae3-c97f5d3cdcb2",
   "metadata": {},
   "outputs": [
    {
     "name": "stdout",
     "output_type": "stream",
     "text": [
      "[200 300 600]\n"
     ]
    }
   ],
   "source": [
    "our_slice=sorted_arr[1:6:2]\n",
    "print(our_slice)"
   ]
  },
  {
   "cell_type": "code",
   "execution_count": 95,
   "id": "8f3d9c93-c07f-4cf5-ae09-87cc5577f591",
   "metadata": {},
   "outputs": [
    {
     "name": "stdout",
     "output_type": "stream",
     "text": [
      "Original Array\n",
      "[ 100  200  300  300  500  600  800 1900 7000]\n",
      "Every Third element\n",
      "[100 300 800]\n"
     ]
    }
   ],
   "source": [
    "print('Original Array')\n",
    "print(sorted_arr)\n",
    "print('Every Third element')\n",
    "every_third_element=sorted_arr[ : :3] # amik data selang 3 kli\n",
    "print(every_third_element)"
   ]
  },
  {
   "cell_type": "markdown",
   "id": "2a279640-7f45-4bb7-809e-799c7ef97305",
   "metadata": {},
   "source": [
    "# Slice Reverse"
   ]
  },
  {
   "cell_type": "code",
   "execution_count": 97,
   "id": "e7e56693-826d-4330-8660-f9a0ae70af80",
   "metadata": {},
   "outputs": [
    {
     "name": "stdout",
     "output_type": "stream",
     "text": [
      "Original Array\n",
      "[ 100  200  300  300  500  600  800 1900 7000]\n",
      "Reverse Array: \n",
      "[7000 1900  800  600  500  300  300  200  100]\n"
     ]
    }
   ],
   "source": [
    "print('Original Array')\n",
    "print(sorted_arr)\n",
    "print('Reverse Array: ')\n",
    "print(sorted_arr[::-1])"
   ]
  },
  {
   "cell_type": "code",
   "execution_count": 99,
   "id": "ccca61f1-d032-485a-950a-60c49a99079e",
   "metadata": {},
   "outputs": [
    {
     "name": "stdout",
     "output_type": "stream",
     "text": [
      "Last five element\n",
      "[ 500  600  800 1900 7000]\n"
     ]
    }
   ],
   "source": [
    "print('Last five element')\n",
    "print(sorted_arr[-5:])"
   ]
  },
  {
   "cell_type": "code",
   "execution_count": 100,
   "id": "856187ee-3e9b-44b1-83a1-f4656eb15058",
   "metadata": {},
   "outputs": [
    {
     "name": "stdout",
     "output_type": "stream",
     "text": [
      "Slicing Done\n"
     ]
    }
   ],
   "source": [
    "print('Slicing Done')"
   ]
  },
  {
   "cell_type": "code",
   "execution_count": null,
   "id": "dec6b65b-ce18-4685-a563-52974d61ced0",
   "metadata": {},
   "outputs": [],
   "source": []
  }
 ],
 "metadata": {
  "kernelspec": {
   "display_name": "Python [conda env:base] *",
   "language": "python",
   "name": "conda-base-py"
  },
  "language_info": {
   "codemirror_mode": {
    "name": "ipython",
    "version": 3
   },
   "file_extension": ".py",
   "mimetype": "text/x-python",
   "name": "python",
   "nbconvert_exporter": "python",
   "pygments_lexer": "ipython3",
   "version": "3.13.5"
  }
 },
 "nbformat": 4,
 "nbformat_minor": 5
}
